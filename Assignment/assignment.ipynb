{
 "cells": [
  {
   "cell_type": "code",
   "execution_count": 1,
   "metadata": {},
   "outputs": [],
   "source": [
    "import matplotlib.pyplot as plt\n",
    "import numpy as np\n",
    "import pandas as pd\n",
    "asfile = pd.read_csv('data_assignment.csv')\n"
   ]
  },
  {
   "cell_type": "code",
   "execution_count": 2,
   "metadata": {},
   "outputs": [
    {
     "output_type": "execute_result",
     "data": {
      "text/plain": "149999"
     },
     "metadata": {},
     "execution_count": 2
    }
   ],
   "source": [
    "#how many records?\n",
    "asfile.shape[0]"
   ]
  },
  {
   "cell_type": "code",
   "execution_count": 3,
   "metadata": {},
   "outputs": [
    {
     "output_type": "execute_result",
     "data": {
      "text/plain": "         Id                     Title      Company                      Date  \\\n0  37404348  Casual Stock Replenisher  Aldi Stores  2018-10-07T00:00:00.000Z   \n\n  Location                         Area              Classification  \\\n0   Sydney  North West & Hills District  Retail & Consumer Products   \n\n   SubClassification                                        Requirement  \\\n0  Retail Assistants  Our Casual Stock Replenishers pride themselves...   \n\n  FullDescription  LowestSalary  HighestSalary JobType  \n0             NaN             0             30     NaN  ",
      "text/html": "<div>\n<style scoped>\n    .dataframe tbody tr th:only-of-type {\n        vertical-align: middle;\n    }\n\n    .dataframe tbody tr th {\n        vertical-align: top;\n    }\n\n    .dataframe thead th {\n        text-align: right;\n    }\n</style>\n<table border=\"1\" class=\"dataframe\">\n  <thead>\n    <tr style=\"text-align: right;\">\n      <th></th>\n      <th>Id</th>\n      <th>Title</th>\n      <th>Company</th>\n      <th>Date</th>\n      <th>Location</th>\n      <th>Area</th>\n      <th>Classification</th>\n      <th>SubClassification</th>\n      <th>Requirement</th>\n      <th>FullDescription</th>\n      <th>LowestSalary</th>\n      <th>HighestSalary</th>\n      <th>JobType</th>\n    </tr>\n  </thead>\n  <tbody>\n    <tr>\n      <th>0</th>\n      <td>37404348</td>\n      <td>Casual Stock Replenisher</td>\n      <td>Aldi Stores</td>\n      <td>2018-10-07T00:00:00.000Z</td>\n      <td>Sydney</td>\n      <td>North West &amp; Hills District</td>\n      <td>Retail &amp; Consumer Products</td>\n      <td>Retail Assistants</td>\n      <td>Our Casual Stock Replenishers pride themselves...</td>\n      <td>NaN</td>\n      <td>0</td>\n      <td>30</td>\n      <td>NaN</td>\n    </tr>\n  </tbody>\n</table>\n</div>"
     },
     "metadata": {},
     "execution_count": 3
    }
   ],
   "source": [
    "#What perion does it cover (start)\n",
    "asfile.sort_values(['Date'])\n",
    "asfile.head(1)"
   ]
  },
  {
   "cell_type": "code",
   "execution_count": 4,
   "metadata": {},
   "outputs": [
    {
     "output_type": "execute_result",
     "data": {
      "text/plain": "              Id              Title                 Company  \\\n149998  37709311  Network Engineer   Robert Half Technology   \n\n                            Date Location                          Area  \\\n149998  2018-11-13T00:00:00.000Z    Perth  CBD, Inner & Western Suburbs   \n\n                                Classification      SubClassification  \\\n149998  Information & Communication Technology  Engineering - Network   \n\n                                              Requirement  \\\n149998  Our client requires an experienced Network Eng...   \n\n                                          FullDescription  LowestSalary  \\\n149998  <ul>\\n          <li><strong>Permanent Position...             0   \n\n        HighestSalary    JobType  \n149998             30  Full Time  ",
      "text/html": "<div>\n<style scoped>\n    .dataframe tbody tr th:only-of-type {\n        vertical-align: middle;\n    }\n\n    .dataframe tbody tr th {\n        vertical-align: top;\n    }\n\n    .dataframe thead th {\n        text-align: right;\n    }\n</style>\n<table border=\"1\" class=\"dataframe\">\n  <thead>\n    <tr style=\"text-align: right;\">\n      <th></th>\n      <th>Id</th>\n      <th>Title</th>\n      <th>Company</th>\n      <th>Date</th>\n      <th>Location</th>\n      <th>Area</th>\n      <th>Classification</th>\n      <th>SubClassification</th>\n      <th>Requirement</th>\n      <th>FullDescription</th>\n      <th>LowestSalary</th>\n      <th>HighestSalary</th>\n      <th>JobType</th>\n    </tr>\n  </thead>\n  <tbody>\n    <tr>\n      <th>149998</th>\n      <td>37709311</td>\n      <td>Network Engineer</td>\n      <td>Robert Half Technology</td>\n      <td>2018-11-13T00:00:00.000Z</td>\n      <td>Perth</td>\n      <td>CBD, Inner &amp; Western Suburbs</td>\n      <td>Information &amp; Communication Technology</td>\n      <td>Engineering - Network</td>\n      <td>Our client requires an experienced Network Eng...</td>\n      <td>&lt;ul&gt;\\n          &lt;li&gt;&lt;strong&gt;Permanent Position...</td>\n      <td>0</td>\n      <td>30</td>\n      <td>Full Time</td>\n    </tr>\n  </tbody>\n</table>\n</div>"
     },
     "metadata": {},
     "execution_count": 4
    }
   ],
   "source": [
    "#What period does it cover (end)\n",
    "asfile.tail(1)"
   ]
  },
  {
   "cell_type": "code",
   "execution_count": 5,
   "metadata": {},
   "outputs": [
    {
     "output_type": "execute_result",
     "data": {
      "text/plain": "44"
     },
     "metadata": {},
     "execution_count": 5
    }
   ],
   "source": [
    "#How many dates have job postings?\n",
    "dates = asfile['Date'].value_counts()\n",
    "datescount = len(dates)\n",
    "datescount"
   ]
  },
  {
   "cell_type": "code",
   "execution_count": 6,
   "metadata": {},
   "outputs": [
    {
     "output_type": "execute_result",
     "data": {
      "text/plain": "65"
     },
     "metadata": {},
     "execution_count": 6
    }
   ],
   "source": [
    "#How many locations?\n",
    "locations = asfile['Location'].value_counts()\n",
    "locationscount = len(locations)\n",
    "locationscount"
   ]
  },
  {
   "cell_type": "code",
   "execution_count": 7,
   "metadata": {},
   "outputs": [
    {
     "output_type": "execute_result",
     "data": {
      "text/plain": "Sydney                                  46357\nMelbourne                               35315\nBrisbane                                16538\nPerth                                    9913\nAdelaide                                 4998\n                                        ...  \nCoober Pedy & Outback SA                   78\nTumut, Snowy & Monaro                      69\nSomerset & Lockyer                         56\nFleurieu Peninsula & Kangaroo Island       53\nCentral & South East TAS                   36\nName: Location, Length: 65, dtype: int64"
     },
     "metadata": {},
     "execution_count": 7
    }
   ],
   "source": [
    "#first row only\n",
    "# Which location has the most job postings?\n",
    "locations"
   ]
  },
  {
   "cell_type": "code",
   "execution_count": 8,
   "metadata": {},
   "outputs": [
    {
     "output_type": "execute_result",
     "data": {
      "text/plain": "30"
     },
     "metadata": {},
     "execution_count": 8
    }
   ],
   "source": [
    "#How many sectors\n",
    "sectors = asfile['Classification'].value_counts()\n",
    "sectorscount = len(sectors)\n",
    "sectorscount"
   ]
  },
  {
   "cell_type": "code",
   "execution_count": 13,
   "metadata": {},
   "outputs": [
    {
     "output_type": "execute_result",
     "data": {
      "text/plain": "Information & Communication Technology    16661\nTrades & Services                         14125\nHealthcare & Medical                      12515\nHospitality & Tourism                     11818\nManufacturing, Transport & Logistics       9608\nAdministration & Office Support            7636\nAccounting                                 7075\nEducation & Training                       7033\nRetail & Consumer Products                 6496\nSales                                      6281\nConstruction                               6254\nGovernment & Defence                       5926\nEngineering                                4812\nMining, Resources & Energy                 4679\nCommunity Services & Development           3528\nBanking & Financial Services               3481\nHuman Resources & Recruitment              3233\nCall Centre & Customer Service             3127\nLegal                                      3071\nMarketing & Communications                 3052\nReal Estate & Property                     2729\nDesign & Architecture                      1379\nInsurance & Superannuation                 1144\nConsulting & Strategy                       905\nSport & Recreation                          750\nScience & Technology                        696\nFarming, Animals & Conservation             683\nAdvertising, Arts & Media                   644\nCEO & General Management                    585\nSelf Employment                              73\nName: Classification, dtype: int64"
     },
     "metadata": {},
     "execution_count": 13
    }
   ],
   "source": [
    "#list sectors and how many postings\n",
    "sectors"
   ]
  },
  {
   "cell_type": "code",
   "execution_count": 9,
   "metadata": {},
   "outputs": [
    {
     "output_type": "execute_result",
     "data": {
      "text/plain": "92115"
     },
     "metadata": {},
     "execution_count": 9
    }
   ],
   "source": [
    "jobs = asfile['Title'].value_counts()\n",
    "jobscount = len(jobs)\n",
    "jobscount"
   ]
  },
  {
   "cell_type": "code",
   "execution_count": 10,
   "metadata": {},
   "outputs": [
    {
     "output_type": "execute_result",
     "data": {
      "text/plain": "Project Manager                                           592\nBusiness Analyst                                          392\nBusiness Development Manager                              352\nRegistered Nurse                                          329\nAdministration Assistant                                  278\n                                                         ... \nPractice Lead - QA Engineering                              1\nAPPLIANCE REPAIR TECHNICIAN                                 1\nProduction Team Members - Day, Afternoon & Night Shift      1\nAssistant Airport Operations Manager                        1\nTest Management                                             1\nName: Title, Length: 92115, dtype: int64"
     },
     "metadata": {},
     "execution_count": 10
    }
   ],
   "source": [
    "jobs"
   ]
  },
  {
   "cell_type": "code",
   "execution_count": 11,
   "metadata": {},
   "outputs": [
    {
     "output_type": "execute_result",
     "data": {
      "text/plain": "Sydney                                  46357\nMelbourne                               35315\nBrisbane                                16538\nPerth                                    9913\nAdelaide                                 4998\n                                        ...  \nCoober Pedy & Outback SA                   78\nTumut, Snowy & Monaro                      69\nSomerset & Lockyer                         56\nFleurieu Peninsula & Kangaroo Island       53\nCentral & South East TAS                   36\nName: Location, Length: 65, dtype: int64"
     },
     "metadata": {},
     "execution_count": 11
    }
   ],
   "source": [
    "locations"
   ]
  },
  {
   "cell_type": "code",
   "execution_count": 12,
   "metadata": {},
   "outputs": [
    {
     "output_type": "execute_result",
     "data": {
      "text/plain": "2018-10-17T00:00:00.000Z    13059\n2018-10-31T00:00:00.000Z     8641\n2018-10-04T00:00:00.000Z     8506\n2018-10-10T00:00:00.000Z     8337\n2018-10-30T00:00:00.000Z     8179\n2018-10-18T00:00:00.000Z     8121\n2018-11-05T00:00:00.000Z     7778\n2018-11-07T00:00:00.000Z     6947\n2018-10-09T00:00:00.000Z     6329\n2018-10-16T00:00:00.000Z     6267\n2018-10-19T00:00:00.000Z     5989\n2018-11-12T00:00:00.000Z     5865\n2018-10-05T00:00:00.000Z     5711\n2018-10-15T00:00:00.000Z     5210\n2018-10-08T00:00:00.000Z     4995\n2018-10-03T00:00:00.000Z     4945\n2018-10-29T00:00:00.000Z     4656\n2018-11-06T00:00:00.000Z     3654\n2018-11-09T00:00:00.000Z     3377\n2018-11-02T00:00:00.000Z     2874\n2018-10-02T00:00:00.000Z     1980\n2018-10-26T00:00:00.000Z     1701\n2018-10-12T00:00:00.000Z     1324\n2018-11-01T00:00:00.000Z     1316\n2018-10-11T00:00:00.000Z     1221\n2018-10-25T00:00:00.000Z     1205\n2018-11-08T00:00:00.000Z     1199\n2018-10-21T00:00:00.000Z     1145\n2018-10-07T00:00:00.000Z     1037\n2018-10-01T00:00:00.000Z     1023\n2018-11-13T00:00:00.000Z      986\n2018-10-24T00:00:00.000Z      835\n2018-10-23T00:00:00.000Z      827\n2018-11-10T00:00:00.000Z      743\n2018-10-22T00:00:00.000Z      688\n2018-11-04T00:00:00.000Z      636\n2018-11-03T00:00:00.000Z      499\n2018-10-06T00:00:00.000Z      471\n2018-10-20T00:00:00.000Z      422\n2018-11-11T00:00:00.000Z      343\n2018-10-28T00:00:00.000Z      291\n2018-10-14T00:00:00.000Z      239\n2018-10-27T00:00:00.000Z      232\n2018-10-13T00:00:00.000Z      196\nName: Date, dtype: int64"
     },
     "metadata": {},
     "execution_count": 12
    }
   ],
   "source": [
    "dates"
   ]
  },
  {
   "cell_type": "code",
   "execution_count": null,
   "metadata": {},
   "outputs": [],
   "source": []
  }
 ],
 "metadata": {
  "language_info": {
   "codemirror_mode": {
    "name": "ipython",
    "version": 3
   },
   "file_extension": ".py",
   "mimetype": "text/x-python",
   "name": "python",
   "nbconvert_exporter": "python",
   "pygments_lexer": "ipython3",
   "version": 3
  },
  "orig_nbformat": 2,
  "kernelspec": {
   "name": "python_defaultSpec_1595385872581",
   "display_name": "Python 3.7.6 64-bit ('base': conda)"
  }
 },
 "nbformat": 4,
 "nbformat_minor": 2
}