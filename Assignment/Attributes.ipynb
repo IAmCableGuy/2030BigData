{
 "metadata": {
  "language_info": {
   "codemirror_mode": {
    "name": "ipython",
    "version": 3
   },
   "file_extension": ".py",
   "mimetype": "text/x-python",
   "name": "python",
   "nbconvert_exporter": "python",
   "pygments_lexer": "ipython3",
   "version": 3
  },
  "orig_nbformat": 2,
  "kernelspec": {
   "name": "python_defaultSpec_1596021577509",
   "display_name": "Python 3.7.6 64-bit ('base': conda)"
  }
 },
 "nbformat": 4,
 "nbformat_minor": 2,
 "cells": [
  {
   "cell_type": "code",
   "execution_count": 1,
   "metadata": {},
   "outputs": [],
   "source": [
    "# import all libraries requird in the code\n",
    "import pandas as pd\n",
    "import numpy as np\n",
    "import matplotlib.pyplot as plt \n",
    "import matplotlib.image as mpimg\n",
    "import seaborn as sns\n",
    "%matplotlib inline\n",
    "\n",
    "# read in the data from the supplied assignment file and check input via table \n",
    "df = pd.read_csv(\"data_assignment.csv\")"
   ]
  },
  {
   "cell_type": "code",
   "execution_count": 2,
   "metadata": {
    "tags": []
   },
   "outputs": [
    {
     "output_type": "stream",
     "name": "stdout",
     "text": "There are 149999 IDs in the table\nThere are 92115 variations of Titles in the table\nThere are 26318 different companies listed in the table\nThere are 44 dates that have job postings.\nThere are 65 different Locations listed in the table\nThere are 19 different areas included\nThere are 30 job sectors\nThere are 338 sub-classification job sectors\nThere are 121324 Requirements listed\nThere are 127676 Full Descriptions listed in the table\nThere are 11 salary ranges in the table\nThere are 4 different Job Types listed in the table\n"
    }
   ],
   "source": [
    "#Count number of attributes in each column\n",
    "\n",
    "#Create lists to hold data in for column names and counts of attributes\n",
    "attributes_names = ['Id', 'Title', 'Company', 'Date', 'Location', 'Area', 'Classification',\n",
    "       'Sub-Classification', 'Requirements', 'Full Description', 'Lowest Salary',\n",
    "       'Highest Salary', 'Job Type']\n",
    "\n",
    "attribute_counts = []\n",
    "\n",
    "# Number of ID - records in table\n",
    "numIds = df['Id'].value_counts()\n",
    "id_counts = len(numIds)\n",
    "print(f'There are {id_counts} IDs in the table')\n",
    "attribute_counts.append(id_counts)\n",
    "#attributes_names.append(df['Id'])\n",
    "\n",
    "\n",
    "# Number of different Titles in table\n",
    "numTitles = df['Title'].value_counts()\n",
    "title_counts = len(numTitles)\n",
    "print(f'There are {title_counts} variations of Titles in the table')\n",
    "attribute_counts.append(title_counts)\n",
    "\n",
    "\n",
    "# Number of different companies in table\n",
    "numCompany = df['Company'].value_counts()\n",
    "company_counts = len(numCompany)\n",
    "print(f'There are {company_counts} different companies listed in the table')\n",
    "attribute_counts.append(company_counts)\n",
    "\n",
    "\n",
    "# How many dates have job postings?\n",
    "jobpost = df[\"Date\"].value_counts()\n",
    "num_posted = len(jobpost)\n",
    "print(f'There are {num_posted} dates that have job postings.')\n",
    "attribute_counts.append(num_posted)\n",
    "\n",
    "\n",
    "# Number of different locations in table\n",
    "numLocations = df['Location'].value_counts()\n",
    "location_counts = len(numLocations)\n",
    "print(f'There are {location_counts} different Locations listed in the table')\n",
    "attribute_counts.append(location_counts)\n",
    "\n",
    "\n",
    "# Number of Area\n",
    "numArea = df['Area'].value_counts()\n",
    "area_counts = len(numArea)\n",
    "print(f'There are {area_counts} different areas included')\n",
    "attribute_counts.append(area_counts)\n",
    "\n",
    "\n",
    "# Number of Job Classification sectors\n",
    "classes = df['Classification'].value_counts()\n",
    "class_counts = len(classes)\n",
    "print(f'There are {class_counts} job sectors')\n",
    "attribute_counts.append(class_counts)\n",
    "\n",
    "\n",
    "# Number of Job Sub-Classification sectors\n",
    "subclasses = df['SubClassification'].value_counts()\n",
    "subclass_counts = len(subclasses)\n",
    "print(f'There are {subclass_counts} sub-classification job sectors')\n",
    "attribute_counts.append(subclass_counts)\n",
    "\n",
    "\n",
    "# Number of Requirements\n",
    "required = df['Requirement'].value_counts()\n",
    "req_counts = len(required)\n",
    "print(f'There are {req_counts} Requirements listed')\n",
    "attribute_counts.append(req_counts)\n",
    "\n",
    "\n",
    "# Number of full descriptions in table\n",
    "numDesc = df['FullDescription'].value_counts()\n",
    "desc_counts = len(numDesc)\n",
    "print(f'There are {desc_counts} Full Descriptions listed in the table')\n",
    "attribute_counts.append(desc_counts)\n",
    "\n",
    "\n",
    "# Number of salary ranges in table\n",
    "high = df['HighestSalary']\n",
    "low = df['LowestSalary']\n",
    "ranges = {}\n",
    "for i in range(len(high)):\n",
    "    if (low[i], high[i]) not in ranges:\n",
    "        ranges[(low[i], high[i])] = 1\n",
    "    else:\n",
    "        rangecount = ranges[(low[i], high[i])]\n",
    "        ranges[(low[i], high[i])] = rangecount + 1\n",
    "\n",
    "range_counts = len(ranges)\n",
    "print(f'There are {range_counts} salary ranges in the table')\n",
    "#Highest Salary #\n",
    "attribute_counts.append(range_counts)\n",
    "#Lowest Salary #\n",
    "attribute_counts.append(range_counts)\n",
    "\n",
    "\n",
    "# Number of job types in table\n",
    "numJobTypes = df['JobType'].value_counts()\n",
    "jobtypes_counts = len(numJobTypes)\n",
    "print(f'There are {jobtypes_counts} different Job Types listed in the table')\n",
    "attribute_counts.append(jobtypes_counts)\n",
    "\n"
   ]
  },
  {
   "cell_type": "code",
   "execution_count": 3,
   "metadata": {
    "tags": []
   },
   "outputs": [
    {
     "output_type": "execute_result",
     "data": {
      "text/plain": "Id                    149999\nTitle                  92115\nCompany                26318\nDate                      44\nLocation                  65\nArea                      19\nClassification            30\nSub-Classification       338\nRequirements          121324\nFull Description      127676\nLowest Salary             11\nHighest Salary            11\nJob Type                   4\ndtype: int64"
     },
     "metadata": {},
     "execution_count": 3
    }
   ],
   "source": [
    "#clean table of attributes\n",
    "pd.Series(attribute_counts,attributes_names)"
   ]
  },
  {
   "cell_type": "code",
   "execution_count": null,
   "metadata": {},
   "outputs": [],
   "source": []
  }
 ]
}